{
 "cells": [
  {
   "cell_type": "markdown",
   "id": "0fe229e4-a715-492c-81c3-b0e7bd5dd297",
   "metadata": {},
   "source": [
    "# Time Series\n",
    "![Warning Message: Under Construction](pict/under_construction.png)"
   ]
  },
  {
   "cell_type": "markdown",
   "id": "89033330-c1d0-40f7-bd44-7d0bdf345429",
   "metadata": {},
   "source": [
    "## Timestamp"
   ]
  },
  {
   "cell_type": "markdown",
   "id": "9e77c8e6-d6da-4832-bc92-2b120026d4ea",
   "metadata": {},
   "source": [
    "## Datetime"
   ]
  },
  {
   "cell_type": "code",
   "execution_count": 4,
   "id": "b6a2b033-0cfd-4567-9402-2a41ee24dd75",
   "metadata": {},
   "outputs": [],
   "source": [
    "from datetime import datetime\n"
   ]
  },
  {
   "cell_type": "markdown",
   "id": "809260c4-cebf-4453-b1f8-1a7afb26ed01",
   "metadata": {},
   "source": [
    "## now()\n",
    "The *now()* method returns the current date and time as a datetime object."
   ]
  },
  {
   "cell_type": "code",
   "execution_count": 6,
   "id": "cf65a196-d159-466b-ab84-06f636f4c6e8",
   "metadata": {},
   "outputs": [
    {
     "data": {
      "text/plain": [
       "datetime.datetime(2025, 2, 11, 17, 11, 29, 841594)"
      ]
     },
     "execution_count": 6,
     "metadata": {},
     "output_type": "execute_result"
    }
   ],
   "source": [
    "datetime.now()"
   ]
  },
  {
   "cell_type": "markdown",
   "id": "eeb022a6-7f1d-4551-a450-05a0a9bdf909",
   "metadata": {},
   "source": [
    "## strftime()\n",
    "The *strftime()* method returns the time in a string format.\n",
    "- To extract specific components from the string representation of a datetime object, use a percentage sign (%) followed by a corresponding character from the following [table](https://pandas.pydata.org/docs/reference/api/pandas.Period.strftime.html)."
   ]
  },
  {
   "cell_type": "markdown",
   "id": "a1788ea0-7661-4876-bc0e-4fcd82a0ba26",
   "metadata": {},
   "source": [
    "`%Y`: Year with century as a decimal number."
   ]
  },
  {
   "cell_type": "code",
   "execution_count": 9,
   "id": "7c74bc77-8ef7-4cdf-bea2-d374a5eb822c",
   "metadata": {},
   "outputs": [
    {
     "data": {
      "text/plain": [
       "'2025'"
      ]
     },
     "execution_count": 9,
     "metadata": {},
     "output_type": "execute_result"
    }
   ],
   "source": [
    "datetime.now().strftime('%Y')"
   ]
  },
  {
   "cell_type": "markdown",
   "id": "83ccf1fb-dc0e-49af-ad40-74a0d4442000",
   "metadata": {},
   "source": [
    "`%y`: Year without century as a decimal number [00,99]"
   ]
  },
  {
   "cell_type": "code",
   "execution_count": 11,
   "id": "adff6ad4-d4a1-49d8-aebe-d465aca2ab5d",
   "metadata": {},
   "outputs": [
    {
     "data": {
      "text/plain": [
       "'25'"
      ]
     },
     "execution_count": 11,
     "metadata": {},
     "output_type": "execute_result"
    }
   ],
   "source": [
    "datetime.now().strftime('%y')"
   ]
  },
  {
   "cell_type": "markdown",
   "id": "f51e9d5f-d60b-4302-b58b-582d50764ba1",
   "metadata": {},
   "source": [
    "`%m`: Month as a decimal number [01,12]"
   ]
  },
  {
   "cell_type": "code",
   "execution_count": 13,
   "id": "c06c5248-8da6-4f9a-a544-876e2df8c90e",
   "metadata": {},
   "outputs": [
    {
     "data": {
      "text/plain": [
       "'02'"
      ]
     },
     "execution_count": 13,
     "metadata": {},
     "output_type": "execute_result"
    }
   ],
   "source": [
    "datetime.now().strftime('%m')"
   ]
  },
  {
   "cell_type": "markdown",
   "id": "8c5f826b-d9c9-46f4-83ff-4ce6b4bba374",
   "metadata": {},
   "source": [
    "`%d`: Day of the month as a decimal number [01,31]"
   ]
  },
  {
   "cell_type": "code",
   "execution_count": 15,
   "id": "6083d3ed-26d2-4be6-9e6c-5fbbe34a8d54",
   "metadata": {
    "scrolled": true
   },
   "outputs": [
    {
     "data": {
      "text/plain": [
       "'11'"
      ]
     },
     "execution_count": 15,
     "metadata": {},
     "output_type": "execute_result"
    }
   ],
   "source": [
    "datetime.now().strftime('%d')"
   ]
  },
  {
   "cell_type": "markdown",
   "id": "923fd58c-0804-4ced-b3da-eed85728d140",
   "metadata": {},
   "source": [
    "`%H`: Hour (24-hour clock) as a decimal number [00,23]"
   ]
  },
  {
   "cell_type": "code",
   "execution_count": 17,
   "id": "e288157b-51ee-4f7f-b699-105e62212c2f",
   "metadata": {},
   "outputs": [
    {
     "data": {
      "text/plain": [
       "'17'"
      ]
     },
     "execution_count": 17,
     "metadata": {},
     "output_type": "execute_result"
    }
   ],
   "source": [
    "datetime.now().strftime('%H')"
   ]
  },
  {
   "cell_type": "markdown",
   "id": "129b2ec3-6767-4c96-acaa-5fd63110f73a",
   "metadata": {},
   "source": [
    "`%I`: Hour (12-hour clock) as a decimal number [00,11]"
   ]
  },
  {
   "cell_type": "code",
   "execution_count": 19,
   "id": "58045bab-c50e-45a0-ba5b-6d280c56a6ce",
   "metadata": {},
   "outputs": [
    {
     "data": {
      "text/plain": [
       "'05'"
      ]
     },
     "execution_count": 19,
     "metadata": {},
     "output_type": "execute_result"
    }
   ],
   "source": [
    "datetime.now().strftime('%I')"
   ]
  },
  {
   "cell_type": "markdown",
   "id": "54c71538-0f9c-41bb-8efc-21871342f26f",
   "metadata": {},
   "source": [
    "`%M`: Minute as a decimal number [00,59]"
   ]
  },
  {
   "cell_type": "code",
   "execution_count": 21,
   "id": "b964efcf-2db0-48e8-b5d6-467d6b08a209",
   "metadata": {},
   "outputs": [
    {
     "data": {
      "text/plain": [
       "'11'"
      ]
     },
     "execution_count": 21,
     "metadata": {},
     "output_type": "execute_result"
    }
   ],
   "source": [
    "datetime.now().strftime('%M')"
   ]
  },
  {
   "cell_type": "markdown",
   "id": "0087cfd3-16eb-4087-bcd8-f05c776baf2d",
   "metadata": {},
   "source": [
    "`%S`: Second as a decimal number [00,61]."
   ]
  },
  {
   "cell_type": "code",
   "execution_count": 23,
   "id": "93702976-5748-4616-af2e-2b237b0285b0",
   "metadata": {},
   "outputs": [
    {
     "data": {
      "text/plain": [
       "'29'"
      ]
     },
     "execution_count": 23,
     "metadata": {},
     "output_type": "execute_result"
    }
   ],
   "source": [
    "datetime.now().strftime('%S')"
   ]
  },
  {
   "cell_type": "markdown",
   "id": "4177e661-6762-464b-96c2-91ee88ae08c1",
   "metadata": {},
   "source": [
    "- Year and Month"
   ]
  },
  {
   "cell_type": "code",
   "execution_count": 25,
   "id": "90daa028-aa42-4229-91af-d612be7b63f8",
   "metadata": {},
   "outputs": [
    {
     "data": {
      "text/plain": [
       "'2025 02'"
      ]
     },
     "execution_count": 25,
     "metadata": {},
     "output_type": "execute_result"
    }
   ],
   "source": [
    "datetime.now().strftime('%Y %m')"
   ]
  },
  {
   "cell_type": "markdown",
   "id": "248c4851-066e-499a-a645-d4bca52bff82",
   "metadata": {},
   "source": [
    "- Year, Month, and Day"
   ]
  },
  {
   "cell_type": "code",
   "execution_count": 27,
   "id": "4677f7a3-c51c-47ba-ac42-8f3855ace208",
   "metadata": {},
   "outputs": [
    {
     "data": {
      "text/plain": [
       "'2025 02 11'"
      ]
     },
     "execution_count": 27,
     "metadata": {},
     "output_type": "execute_result"
    }
   ],
   "source": [
    "datetime.now().strftime('%Y %m %d')"
   ]
  },
  {
   "cell_type": "markdown",
   "id": "1d480036-b800-432b-944c-e6d6dac33ee5",
   "metadata": {},
   "source": [
    "- Year, Month, Day, and Hour"
   ]
  },
  {
   "cell_type": "code",
   "execution_count": 29,
   "id": "4d5f7c89-985a-4f92-8d1b-96e47ba2a353",
   "metadata": {},
   "outputs": [
    {
     "data": {
      "text/plain": [
       "'2025 02 11 17'"
      ]
     },
     "execution_count": 29,
     "metadata": {},
     "output_type": "execute_result"
    }
   ],
   "source": [
    "datetime.now().strftime('%Y %m %d %H')"
   ]
  },
  {
   "cell_type": "code",
   "execution_count": 30,
   "id": "f57942af-1f79-4b4e-a41c-d324df7faf2f",
   "metadata": {},
   "outputs": [
    {
     "data": {
      "text/plain": [
       "'2025 02 11 17 11'"
      ]
     },
     "execution_count": 30,
     "metadata": {},
     "output_type": "execute_result"
    }
   ],
   "source": [
    "datetime.now().strftime('%Y %m %d %H %M')"
   ]
  },
  {
   "cell_type": "markdown",
   "id": "4f0940c9-61a7-470b-bc3e-a08d732fa2d8",
   "metadata": {},
   "source": [
    "- Year, Month, Day, Hour, and Second"
   ]
  },
  {
   "cell_type": "code",
   "execution_count": 32,
   "id": "d09db3f2-11ae-455c-a58d-f01ad91a635a",
   "metadata": {},
   "outputs": [
    {
     "data": {
      "text/plain": [
       "'2025 02 11 17 11 29'"
      ]
     },
     "execution_count": 32,
     "metadata": {},
     "output_type": "execute_result"
    }
   ],
   "source": [
    "datetime.now().strftime('%Y %m %d %H %M %S')"
   ]
  },
  {
   "cell_type": "markdown",
   "id": "999ffa63-5b36-41d5-a6e5-f390106a0299",
   "metadata": {},
   "source": [
    "## Moving Window "
   ]
  },
  {
   "cell_type": "code",
   "execution_count": null,
   "id": "1dcecfde-0816-48b7-821d-aad4b8dd4518",
   "metadata": {},
   "outputs": [],
   "source": []
  }
 ],
 "metadata": {
  "kernelspec": {
   "display_name": "Python 3 (ipykernel)",
   "language": "python",
   "name": "python3"
  },
  "language_info": {
   "codemirror_mode": {
    "name": "ipython",
    "version": 3
   },
   "file_extension": ".py",
   "mimetype": "text/x-python",
   "name": "python",
   "nbconvert_exporter": "python",
   "pygments_lexer": "ipython3",
   "version": "3.11.8"
  }
 },
 "nbformat": 4,
 "nbformat_minor": 5
}
