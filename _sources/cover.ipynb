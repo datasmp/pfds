{
 "cells": [
  {
   "cell_type": "markdown",
   "id": "58187e9c-5d7e-4f9f-b2c2-2a3319dfd06a",
   "metadata": {},
   "source": [
    "# Cover\n",
    "\n",
    "![Python For Data Science: Book Cover includes the following logos: Google Colab, Python, Jupyter Notebook, Sklearn, Yahoo Finance, Pandas, Seaborn, NumPy, and Matplotlib.](pict/gen_cover3.png)"
   ]
  },
  {
   "cell_type": "code",
   "execution_count": null,
   "id": "743843bd-e862-4897-8c88-c8b7fdf2a134",
   "metadata": {},
   "outputs": [],
   "source": []
  }
 ],
 "metadata": {
  "kernelspec": {
   "display_name": "Python 3 (ipykernel)",
   "language": "python",
   "name": "python3"
  },
  "language_info": {
   "codemirror_mode": {
    "name": "ipython",
    "version": 3
   },
   "file_extension": ".py",
   "mimetype": "text/x-python",
   "name": "python",
   "nbconvert_exporter": "python",
   "pygments_lexer": "ipython3",
   "version": "3.11.8"
  }
 },
 "nbformat": 4,
 "nbformat_minor": 5
}
