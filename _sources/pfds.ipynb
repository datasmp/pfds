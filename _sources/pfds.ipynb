{
 "cells": [
  {
   "cell_type": "markdown",
   "id": "768e5354-b178-43a3-b6be-93f0d56c8718",
   "metadata": {},
   "source": [
    "# Python for Data Science\n",
    "\n",
    "![Section Title: Python for Data Science](title_pict/pfds2.png)"
   ]
  },
  {
   "cell_type": "markdown",
   "id": "7f26981d-f4bc-4430-9ac1-596c714a89a6",
   "metadata": {},
   "source": [
    "This book is a practical guide to using Python for data analytics and science. It introduces a broad range of tools and techniques essential for modern data-driven projects. Topics include working with textual data using regular expressions, processing .txt files, interacting with web APIs, and performing web crawling. You will explore core libraries such as NumPy, work with Series and DataFrames, import and store datasets, and prepare data for analysis, including handling missing values, performing aggregation, and creating clear, informative visualizations.\n",
    "\n",
    "We will also cover specialized topics such as text analysis, time series processing, and an introduction to machine learning algorithms. At the end of the book, you will find datasets and hands-on projects that allow you to apply what you have learned in real-world scenarios.\n",
    "\n",
    "A basic understanding of Python is required to get the most out of this text. If you are new to the language, we recommend starting with [Python in Plain Terms](https://datasmp.github.io/cover.html#).\n",
    "\n",
    "Each chapter concludes with exercises designed to strengthen your understanding and help you develop the practical skills needed to work confidently with data in Python."
   ]
  },
  {
   "cell_type": "code",
   "execution_count": null,
   "id": "83fedb68-5ef0-4d9c-9a19-66ae6dbda2b3",
   "metadata": {},
   "outputs": [],
   "source": []
  }
 ],
 "metadata": {
  "kernelspec": {
   "display_name": "Python 3 (ipykernel)",
   "language": "python",
   "name": "python3"
  },
  "language_info": {
   "codemirror_mode": {
    "name": "ipython",
    "version": 3
   },
   "file_extension": ".py",
   "mimetype": "text/x-python",
   "name": "python",
   "nbconvert_exporter": "python",
   "pygments_lexer": "ipython3",
   "version": "3.11.8"
  }
 },
 "nbformat": 4,
 "nbformat_minor": 5
}
