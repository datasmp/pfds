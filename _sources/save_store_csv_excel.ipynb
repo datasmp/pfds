{
 "cells": [
  {
   "cell_type": "markdown",
   "id": "24c57c28-e43b-4b06-a456-0ec070c6ed53",
   "metadata": {},
   "source": [
    "# Importing and Storing Data\n",
    "In this section, we will explore how to import comma-separated values (CSV) and Excel (XLSX) files into a DataFrame, as well as how to export DataFrames back to CSV or Excel formats using the Pandas library. We will also review the various parameters available to customize the import and export process effectively.\n",
    "\n",
    "Since we will be using methods from the Pandas library, we first need to import it using:"
   ]
  },
  {
   "cell_type": "code",
   "execution_count": 2,
   "id": "fe765be5-cbf1-4fb5-b17c-ee0b9ea1ed41",
   "metadata": {},
   "outputs": [],
   "source": [
    "import pandas as pd"
   ]
  },
  {
   "cell_type": "markdown",
   "id": "24073841-2953-4920-b221-a9a1a2f97b76",
   "metadata": {},
   "source": [
    "## read_csv()\n",
    "The [read_csv()](https://pandas.pydata.org/docs/reference/api/pandas.read_csv.html) function reads a comma-separated values (CSV) file and loads it into a DataFrame.\n",
    "\n",
    "- The file path is provided as a string inside the read_csv() function, including the file name and its extension.\n",
    "- In the following code, the CSV file person_info_v1.csv is located in the sample_files folder.\n",
    "\n"
   ]
  },
  {
   "cell_type": "code",
   "execution_count": 4,
   "id": "f17363c3-5163-4109-a636-3ebdd60a8148",
   "metadata": {},
   "outputs": [
    {
     "data": {
      "text/html": [
       "<div>\n",
       "<style scoped>\n",
       "    .dataframe tbody tr th:only-of-type {\n",
       "        vertical-align: middle;\n",
       "    }\n",
       "\n",
       "    .dataframe tbody tr th {\n",
       "        vertical-align: top;\n",
       "    }\n",
       "\n",
       "    .dataframe thead th {\n",
       "        text-align: right;\n",
       "    }\n",
       "</style>\n",
       "<table border=\"1\" class=\"dataframe\">\n",
       "  <thead>\n",
       "    <tr style=\"text-align: right;\">\n",
       "      <th></th>\n",
       "      <th>Name</th>\n",
       "      <th>Birthdate</th>\n",
       "      <th>State</th>\n",
       "      <th>Age</th>\n",
       "      <th>Weight</th>\n",
       "    </tr>\n",
       "  </thead>\n",
       "  <tbody>\n",
       "    <tr>\n",
       "      <th>0</th>\n",
       "      <td>Amy</td>\n",
       "      <td>10/25/1972</td>\n",
       "      <td>NY</td>\n",
       "      <td>34</td>\n",
       "      <td>150</td>\n",
       "    </tr>\n",
       "    <tr>\n",
       "      <th>1</th>\n",
       "      <td>Joe</td>\n",
       "      <td>2/5/2010</td>\n",
       "      <td>NJ</td>\n",
       "      <td>21</td>\n",
       "      <td>175</td>\n",
       "    </tr>\n",
       "    <tr>\n",
       "      <th>2</th>\n",
       "      <td>Mia</td>\n",
       "      <td>10/23/2015</td>\n",
       "      <td>AZ</td>\n",
       "      <td>67</td>\n",
       "      <td>130</td>\n",
       "    </tr>\n",
       "    <tr>\n",
       "      <th>3</th>\n",
       "      <td>Amy</td>\n",
       "      <td>11/6/1983</td>\n",
       "      <td>FL</td>\n",
       "      <td>19</td>\n",
       "      <td>145</td>\n",
       "    </tr>\n",
       "    <tr>\n",
       "      <th>4</th>\n",
       "      <td>Liz</td>\n",
       "      <td>4/19/1994</td>\n",
       "      <td>CA</td>\n",
       "      <td>29</td>\n",
       "      <td>150</td>\n",
       "    </tr>\n",
       "    <tr>\n",
       "      <th>5</th>\n",
       "      <td>John</td>\n",
       "      <td>8/29/2023</td>\n",
       "      <td>OH</td>\n",
       "      <td>34</td>\n",
       "      <td>170</td>\n",
       "    </tr>\n",
       "  </tbody>\n",
       "</table>\n",
       "</div>"
      ],
      "text/plain": [
       "   Name   Birthdate State  Age  Weight\n",
       "0   Amy  10/25/1972    NY   34     150\n",
       "1   Joe    2/5/2010    NJ   21     175\n",
       "2   Mia  10/23/2015    AZ   67     130\n",
       "3   Amy   11/6/1983    FL   19     145\n",
       "4   Liz   4/19/1994    CA   29     150\n",
       "5  John   8/29/2023    OH   34     170"
      ]
     },
     "execution_count": 4,
     "metadata": {},
     "output_type": "execute_result"
    }
   ],
   "source": [
    "pd.read_csv('sample_files/person_info_v1.csv')"
   ]
  },
  {
   "cell_type": "markdown",
   "id": "a8d5ecb7-eaea-4583-abfd-7061831752a7",
   "metadata": {},
   "source": [
    "### index_col\n",
    "Specifies which column to use as the index of the DataFrame, using the column’s index number or label."
   ]
  },
  {
   "cell_type": "code",
   "execution_count": 6,
   "id": "8ba8fdab-2bbf-4437-a2d8-caf932c672c1",
   "metadata": {},
   "outputs": [
    {
     "data": {
      "text/html": [
       "<div>\n",
       "<style scoped>\n",
       "    .dataframe tbody tr th:only-of-type {\n",
       "        vertical-align: middle;\n",
       "    }\n",
       "\n",
       "    .dataframe tbody tr th {\n",
       "        vertical-align: top;\n",
       "    }\n",
       "\n",
       "    .dataframe thead th {\n",
       "        text-align: right;\n",
       "    }\n",
       "</style>\n",
       "<table border=\"1\" class=\"dataframe\">\n",
       "  <thead>\n",
       "    <tr style=\"text-align: right;\">\n",
       "      <th></th>\n",
       "      <th>Birthdate</th>\n",
       "      <th>State</th>\n",
       "      <th>Age</th>\n",
       "      <th>Weight</th>\n",
       "    </tr>\n",
       "    <tr>\n",
       "      <th>Name</th>\n",
       "      <th></th>\n",
       "      <th></th>\n",
       "      <th></th>\n",
       "      <th></th>\n",
       "    </tr>\n",
       "  </thead>\n",
       "  <tbody>\n",
       "    <tr>\n",
       "      <th>Amy</th>\n",
       "      <td>10/25/1972</td>\n",
       "      <td>NY</td>\n",
       "      <td>34</td>\n",
       "      <td>150</td>\n",
       "    </tr>\n",
       "    <tr>\n",
       "      <th>Joe</th>\n",
       "      <td>2/5/2010</td>\n",
       "      <td>NJ</td>\n",
       "      <td>21</td>\n",
       "      <td>175</td>\n",
       "    </tr>\n",
       "    <tr>\n",
       "      <th>Mia</th>\n",
       "      <td>10/23/2015</td>\n",
       "      <td>AZ</td>\n",
       "      <td>67</td>\n",
       "      <td>130</td>\n",
       "    </tr>\n",
       "    <tr>\n",
       "      <th>Amy</th>\n",
       "      <td>11/6/1983</td>\n",
       "      <td>FL</td>\n",
       "      <td>19</td>\n",
       "      <td>145</td>\n",
       "    </tr>\n",
       "    <tr>\n",
       "      <th>Liz</th>\n",
       "      <td>4/19/1994</td>\n",
       "      <td>CA</td>\n",
       "      <td>29</td>\n",
       "      <td>150</td>\n",
       "    </tr>\n",
       "    <tr>\n",
       "      <th>John</th>\n",
       "      <td>8/29/2023</td>\n",
       "      <td>OH</td>\n",
       "      <td>34</td>\n",
       "      <td>170</td>\n",
       "    </tr>\n",
       "  </tbody>\n",
       "</table>\n",
       "</div>"
      ],
      "text/plain": [
       "       Birthdate State  Age  Weight\n",
       "Name                               \n",
       "Amy   10/25/1972    NY   34     150\n",
       "Joe     2/5/2010    NJ   21     175\n",
       "Mia   10/23/2015    AZ   67     130\n",
       "Amy    11/6/1983    FL   19     145\n",
       "Liz    4/19/1994    CA   29     150\n",
       "John   8/29/2023    OH   34     170"
      ]
     },
     "execution_count": 6,
     "metadata": {},
     "output_type": "execute_result"
    }
   ],
   "source": [
    "df = pd.read_csv('sample_files/person_info_v1.csv', index_col=0)\n",
    "df"
   ]
  },
  {
   "cell_type": "markdown",
   "id": "a0452ca3-43de-4881-a51a-096f3ec5f8f0",
   "metadata": {},
   "source": [
    "### parse_dates\n",
    "Specifies columns to be parsed as Timestamp objects during import."
   ]
  },
  {
   "cell_type": "markdown",
   "id": "d5776948-0add-4f9a-9b31-848ac1c9466c",
   "metadata": {},
   "source": [
    "The values in the Date column are currently stored as strings."
   ]
  },
  {
   "cell_type": "code",
   "execution_count": 9,
   "id": "73778709-8195-4874-bdaf-25f36d231c72",
   "metadata": {},
   "outputs": [
    {
     "data": {
      "text/plain": [
       "'2/5/2010'"
      ]
     },
     "execution_count": 9,
     "metadata": {},
     "output_type": "execute_result"
    }
   ],
   "source": [
    "df.loc['Joe', 'Birthdate']"
   ]
  },
  {
   "cell_type": "markdown",
   "id": "3077459b-c106-48ac-8165-98efe34ae254",
   "metadata": {},
   "source": [
    "In the following code, Date column values imported as a Timestamp object."
   ]
  },
  {
   "cell_type": "code",
   "execution_count": 11,
   "id": "de83239c-12e8-49a4-a583-05c41da2d456",
   "metadata": {},
   "outputs": [
    {
     "data": {
      "text/html": [
       "<div>\n",
       "<style scoped>\n",
       "    .dataframe tbody tr th:only-of-type {\n",
       "        vertical-align: middle;\n",
       "    }\n",
       "\n",
       "    .dataframe tbody tr th {\n",
       "        vertical-align: top;\n",
       "    }\n",
       "\n",
       "    .dataframe thead th {\n",
       "        text-align: right;\n",
       "    }\n",
       "</style>\n",
       "<table border=\"1\" class=\"dataframe\">\n",
       "  <thead>\n",
       "    <tr style=\"text-align: right;\">\n",
       "      <th></th>\n",
       "      <th>Birthdate</th>\n",
       "      <th>State</th>\n",
       "      <th>Age</th>\n",
       "      <th>Weight</th>\n",
       "    </tr>\n",
       "    <tr>\n",
       "      <th>Name</th>\n",
       "      <th></th>\n",
       "      <th></th>\n",
       "      <th></th>\n",
       "      <th></th>\n",
       "    </tr>\n",
       "  </thead>\n",
       "  <tbody>\n",
       "    <tr>\n",
       "      <th>Amy</th>\n",
       "      <td>1972-10-25</td>\n",
       "      <td>NY</td>\n",
       "      <td>34</td>\n",
       "      <td>150</td>\n",
       "    </tr>\n",
       "    <tr>\n",
       "      <th>Joe</th>\n",
       "      <td>2010-02-05</td>\n",
       "      <td>NJ</td>\n",
       "      <td>21</td>\n",
       "      <td>175</td>\n",
       "    </tr>\n",
       "    <tr>\n",
       "      <th>Mia</th>\n",
       "      <td>2015-10-23</td>\n",
       "      <td>AZ</td>\n",
       "      <td>67</td>\n",
       "      <td>130</td>\n",
       "    </tr>\n",
       "    <tr>\n",
       "      <th>Amy</th>\n",
       "      <td>1983-11-06</td>\n",
       "      <td>FL</td>\n",
       "      <td>19</td>\n",
       "      <td>145</td>\n",
       "    </tr>\n",
       "    <tr>\n",
       "      <th>Liz</th>\n",
       "      <td>1994-04-19</td>\n",
       "      <td>CA</td>\n",
       "      <td>29</td>\n",
       "      <td>150</td>\n",
       "    </tr>\n",
       "    <tr>\n",
       "      <th>John</th>\n",
       "      <td>2023-08-29</td>\n",
       "      <td>OH</td>\n",
       "      <td>34</td>\n",
       "      <td>170</td>\n",
       "    </tr>\n",
       "  </tbody>\n",
       "</table>\n",
       "</div>"
      ],
      "text/plain": [
       "      Birthdate State  Age  Weight\n",
       "Name                              \n",
       "Amy  1972-10-25    NY   34     150\n",
       "Joe  2010-02-05    NJ   21     175\n",
       "Mia  2015-10-23    AZ   67     130\n",
       "Amy  1983-11-06    FL   19     145\n",
       "Liz  1994-04-19    CA   29     150\n",
       "John 2023-08-29    OH   34     170"
      ]
     },
     "execution_count": 11,
     "metadata": {},
     "output_type": "execute_result"
    }
   ],
   "source": [
    "df = pd.read_csv('sample_files/person_info_v1.csv', index_col=0, parse_dates=['Birthdate'])\n",
    "df"
   ]
  },
  {
   "cell_type": "code",
   "execution_count": 12,
   "id": "1997ce17-a6a2-4c49-8185-3fa65f96d361",
   "metadata": {},
   "outputs": [
    {
     "data": {
      "text/plain": [
       "Timestamp('2010-02-05 00:00:00')"
      ]
     },
     "execution_count": 12,
     "metadata": {},
     "output_type": "execute_result"
    }
   ],
   "source": [
    "df.loc['Joe', 'Birthdate']"
   ]
  },
  {
   "cell_type": "code",
   "execution_count": 13,
   "id": "277dad01-3035-4a8d-a493-f0c8cb436b10",
   "metadata": {},
   "outputs": [
    {
     "data": {
      "text/plain": [
       "pandas._libs.tslibs.timestamps.Timestamp"
      ]
     },
     "execution_count": 13,
     "metadata": {},
     "output_type": "execute_result"
    }
   ],
   "source": [
    "type(df.loc['Joe', 'Birthdate'])"
   ]
  },
  {
   "cell_type": "markdown",
   "id": "6feb6abf-5316-425d-9f1a-9c7bca768a18",
   "metadata": {},
   "source": [
    "### header\n",
    "The person_info_v2.csv file contains some unnecessary information in certain cells. As a result, importing the entire file may lead to many missing values. "
   ]
  },
  {
   "cell_type": "code",
   "execution_count": 15,
   "id": "4ae93e3d-c995-4440-98ae-f9c4d29d9e24",
   "metadata": {},
   "outputs": [
    {
     "data": {
      "text/html": [
       "<div>\n",
       "<style scoped>\n",
       "    .dataframe tbody tr th:only-of-type {\n",
       "        vertical-align: middle;\n",
       "    }\n",
       "\n",
       "    .dataframe tbody tr th {\n",
       "        vertical-align: top;\n",
       "    }\n",
       "\n",
       "    .dataframe thead th {\n",
       "        text-align: right;\n",
       "    }\n",
       "</style>\n",
       "<table border=\"1\" class=\"dataframe\">\n",
       "  <thead>\n",
       "    <tr style=\"text-align: right;\">\n",
       "      <th></th>\n",
       "      <th>Name</th>\n",
       "      <th>Unnamed: 1</th>\n",
       "      <th>Person  Info</th>\n",
       "      <th>Unnamed: 3</th>\n",
       "      <th>Unnamed: 4</th>\n",
       "      <th>Unnamed: 5</th>\n",
       "      <th>Unnamed: 6</th>\n",
       "    </tr>\n",
       "  </thead>\n",
       "  <tbody>\n",
       "    <tr>\n",
       "      <th>0</th>\n",
       "      <td>Birthdate</td>\n",
       "      <td>NaN</td>\n",
       "      <td>N</td>\n",
       "      <td>D</td>\n",
       "      <td>S</td>\n",
       "      <td>A</td>\n",
       "      <td>W</td>\n",
       "    </tr>\n",
       "    <tr>\n",
       "      <th>1</th>\n",
       "      <td>State</td>\n",
       "      <td>NaN</td>\n",
       "      <td>NaN</td>\n",
       "      <td>NaN</td>\n",
       "      <td>NaN</td>\n",
       "      <td>NaN</td>\n",
       "      <td>NaN</td>\n",
       "    </tr>\n",
       "    <tr>\n",
       "      <th>2</th>\n",
       "      <td>Age</td>\n",
       "      <td>NaN</td>\n",
       "      <td>NaN</td>\n",
       "      <td>NaN</td>\n",
       "      <td>NaN</td>\n",
       "      <td>NaN</td>\n",
       "      <td>NaN</td>\n",
       "    </tr>\n",
       "    <tr>\n",
       "      <th>3</th>\n",
       "      <td>Weight</td>\n",
       "      <td>NaN</td>\n",
       "      <td>NaN</td>\n",
       "      <td>NaN</td>\n",
       "      <td>NaN</td>\n",
       "      <td>NaN</td>\n",
       "      <td>NaN</td>\n",
       "    </tr>\n",
       "    <tr>\n",
       "      <th>4</th>\n",
       "      <td>NaN</td>\n",
       "      <td>NaN</td>\n",
       "      <td>Name</td>\n",
       "      <td>Birthdate</td>\n",
       "      <td>State</td>\n",
       "      <td>Age</td>\n",
       "      <td>Weight</td>\n",
       "    </tr>\n",
       "    <tr>\n",
       "      <th>5</th>\n",
       "      <td>NaN</td>\n",
       "      <td>NaN</td>\n",
       "      <td>Amy</td>\n",
       "      <td>10/25/1972</td>\n",
       "      <td>NY</td>\n",
       "      <td>34</td>\n",
       "      <td>150</td>\n",
       "    </tr>\n",
       "    <tr>\n",
       "      <th>6</th>\n",
       "      <td>NaN</td>\n",
       "      <td>NaN</td>\n",
       "      <td>Joe</td>\n",
       "      <td>2/5/2010</td>\n",
       "      <td>NJ</td>\n",
       "      <td>21</td>\n",
       "      <td>175</td>\n",
       "    </tr>\n",
       "    <tr>\n",
       "      <th>7</th>\n",
       "      <td>NaN</td>\n",
       "      <td>NaN</td>\n",
       "      <td>Mia</td>\n",
       "      <td>10/23/2015</td>\n",
       "      <td>AZ</td>\n",
       "      <td>67</td>\n",
       "      <td>130</td>\n",
       "    </tr>\n",
       "    <tr>\n",
       "      <th>8</th>\n",
       "      <td>NaN</td>\n",
       "      <td>NaN</td>\n",
       "      <td>Amy</td>\n",
       "      <td>11/6/1983</td>\n",
       "      <td>FL</td>\n",
       "      <td>19</td>\n",
       "      <td>145</td>\n",
       "    </tr>\n",
       "    <tr>\n",
       "      <th>9</th>\n",
       "      <td>NaN</td>\n",
       "      <td>NaN</td>\n",
       "      <td>Liz</td>\n",
       "      <td>4/19/1994</td>\n",
       "      <td>CA</td>\n",
       "      <td>29</td>\n",
       "      <td>150</td>\n",
       "    </tr>\n",
       "    <tr>\n",
       "      <th>10</th>\n",
       "      <td>NaN</td>\n",
       "      <td>NaN</td>\n",
       "      <td>John</td>\n",
       "      <td>8/29/2023</td>\n",
       "      <td>OH</td>\n",
       "      <td>34</td>\n",
       "      <td>170</td>\n",
       "    </tr>\n",
       "  </tbody>\n",
       "</table>\n",
       "</div>"
      ],
      "text/plain": [
       "         Name  Unnamed: 1 Person  Info   Unnamed: 3 Unnamed: 4 Unnamed: 5  \\\n",
       "0   Birthdate         NaN             N           D          S          A   \n",
       "1       State         NaN           NaN         NaN        NaN        NaN   \n",
       "2         Age         NaN           NaN         NaN        NaN        NaN   \n",
       "3      Weight         NaN           NaN         NaN        NaN        NaN   \n",
       "4         NaN         NaN          Name   Birthdate      State        Age   \n",
       "5         NaN         NaN           Amy  10/25/1972         NY         34   \n",
       "6         NaN         NaN           Joe    2/5/2010         NJ         21   \n",
       "7         NaN         NaN           Mia  10/23/2015         AZ         67   \n",
       "8         NaN         NaN           Amy   11/6/1983         FL         19   \n",
       "9         NaN         NaN           Liz   4/19/1994         CA         29   \n",
       "10        NaN         NaN          John   8/29/2023         OH         34   \n",
       "\n",
       "   Unnamed: 6  \n",
       "0           W  \n",
       "1         NaN  \n",
       "2         NaN  \n",
       "3         NaN  \n",
       "4      Weight  \n",
       "5         150  \n",
       "6         175  \n",
       "7         130  \n",
       "8         145  \n",
       "9         150  \n",
       "10        170  "
      ]
     },
     "execution_count": 15,
     "metadata": {},
     "output_type": "execute_result"
    }
   ],
   "source": [
    "pd.read_csv('sample_files/person_info_v2.csv')"
   ]
  },
  {
   "cell_type": "markdown",
   "id": "db68441e-eaaf-4ac0-a264-ace115b8284f",
   "metadata": {},
   "source": [
    "To avoid this, we should import only the relevant data, as demonstrated in the previous section.\n",
    "- First, the header parameter is used to skip the first 5 rows and treat the sixth row (index 5) as the header."
   ]
  },
  {
   "cell_type": "code",
   "execution_count": 17,
   "id": "a9355afd-8b75-4aa6-a98e-d723bf36b49d",
   "metadata": {},
   "outputs": [
    {
     "data": {
      "text/html": [
       "<div>\n",
       "<style scoped>\n",
       "    .dataframe tbody tr th:only-of-type {\n",
       "        vertical-align: middle;\n",
       "    }\n",
       "\n",
       "    .dataframe tbody tr th {\n",
       "        vertical-align: top;\n",
       "    }\n",
       "\n",
       "    .dataframe thead th {\n",
       "        text-align: right;\n",
       "    }\n",
       "</style>\n",
       "<table border=\"1\" class=\"dataframe\">\n",
       "  <thead>\n",
       "    <tr style=\"text-align: right;\">\n",
       "      <th></th>\n",
       "      <th>Unnamed: 0</th>\n",
       "      <th>Unnamed: 1</th>\n",
       "      <th>Name</th>\n",
       "      <th>Birthdate</th>\n",
       "      <th>State</th>\n",
       "      <th>Age</th>\n",
       "      <th>Weight</th>\n",
       "    </tr>\n",
       "  </thead>\n",
       "  <tbody>\n",
       "    <tr>\n",
       "      <th>0</th>\n",
       "      <td>NaN</td>\n",
       "      <td>NaN</td>\n",
       "      <td>Amy</td>\n",
       "      <td>10/25/1972</td>\n",
       "      <td>NY</td>\n",
       "      <td>34</td>\n",
       "      <td>150</td>\n",
       "    </tr>\n",
       "    <tr>\n",
       "      <th>1</th>\n",
       "      <td>NaN</td>\n",
       "      <td>NaN</td>\n",
       "      <td>Joe</td>\n",
       "      <td>2/5/2010</td>\n",
       "      <td>NJ</td>\n",
       "      <td>21</td>\n",
       "      <td>175</td>\n",
       "    </tr>\n",
       "    <tr>\n",
       "      <th>2</th>\n",
       "      <td>NaN</td>\n",
       "      <td>NaN</td>\n",
       "      <td>Mia</td>\n",
       "      <td>10/23/2015</td>\n",
       "      <td>AZ</td>\n",
       "      <td>67</td>\n",
       "      <td>130</td>\n",
       "    </tr>\n",
       "    <tr>\n",
       "      <th>3</th>\n",
       "      <td>NaN</td>\n",
       "      <td>NaN</td>\n",
       "      <td>Amy</td>\n",
       "      <td>11/6/1983</td>\n",
       "      <td>FL</td>\n",
       "      <td>19</td>\n",
       "      <td>145</td>\n",
       "    </tr>\n",
       "    <tr>\n",
       "      <th>4</th>\n",
       "      <td>NaN</td>\n",
       "      <td>NaN</td>\n",
       "      <td>Liz</td>\n",
       "      <td>4/19/1994</td>\n",
       "      <td>CA</td>\n",
       "      <td>29</td>\n",
       "      <td>150</td>\n",
       "    </tr>\n",
       "    <tr>\n",
       "      <th>5</th>\n",
       "      <td>NaN</td>\n",
       "      <td>NaN</td>\n",
       "      <td>John</td>\n",
       "      <td>8/29/2023</td>\n",
       "      <td>OH</td>\n",
       "      <td>34</td>\n",
       "      <td>170</td>\n",
       "    </tr>\n",
       "  </tbody>\n",
       "</table>\n",
       "</div>"
      ],
      "text/plain": [
       "   Unnamed: 0  Unnamed: 1  Name   Birthdate State  Age  Weight\n",
       "0         NaN         NaN   Amy  10/25/1972    NY   34     150\n",
       "1         NaN         NaN   Joe    2/5/2010    NJ   21     175\n",
       "2         NaN         NaN   Mia  10/23/2015    AZ   67     130\n",
       "3         NaN         NaN   Amy   11/6/1983    FL   19     145\n",
       "4         NaN         NaN   Liz   4/19/1994    CA   29     150\n",
       "5         NaN         NaN  John   8/29/2023    OH   34     170"
      ]
     },
     "execution_count": 17,
     "metadata": {},
     "output_type": "execute_result"
    }
   ],
   "source": [
    "pd.read_csv('sample_files/person_info_v2.csv',header=5)"
   ]
  },
  {
   "cell_type": "markdown",
   "id": "e0d7f755-41dd-4a5f-8c7d-7e2461db8197",
   "metadata": {},
   "source": [
    "The index_col parameter is used to exclude the first two columns and setting third one (index 2) as the index."
   ]
  },
  {
   "cell_type": "code",
   "execution_count": 19,
   "id": "95797035-958a-4536-8737-0cb83204c13e",
   "metadata": {},
   "outputs": [
    {
     "data": {
      "text/html": [
       "<div>\n",
       "<style scoped>\n",
       "    .dataframe tbody tr th:only-of-type {\n",
       "        vertical-align: middle;\n",
       "    }\n",
       "\n",
       "    .dataframe tbody tr th {\n",
       "        vertical-align: top;\n",
       "    }\n",
       "\n",
       "    .dataframe thead th {\n",
       "        text-align: right;\n",
       "    }\n",
       "</style>\n",
       "<table border=\"1\" class=\"dataframe\">\n",
       "  <thead>\n",
       "    <tr style=\"text-align: right;\">\n",
       "      <th></th>\n",
       "      <th>Unnamed: 0</th>\n",
       "      <th>Unnamed: 1</th>\n",
       "      <th>Birthdate</th>\n",
       "      <th>State</th>\n",
       "      <th>Age</th>\n",
       "      <th>Weight</th>\n",
       "    </tr>\n",
       "    <tr>\n",
       "      <th>Name</th>\n",
       "      <th></th>\n",
       "      <th></th>\n",
       "      <th></th>\n",
       "      <th></th>\n",
       "      <th></th>\n",
       "      <th></th>\n",
       "    </tr>\n",
       "  </thead>\n",
       "  <tbody>\n",
       "    <tr>\n",
       "      <th>Amy</th>\n",
       "      <td>NaN</td>\n",
       "      <td>NaN</td>\n",
       "      <td>10/25/1972</td>\n",
       "      <td>NY</td>\n",
       "      <td>34</td>\n",
       "      <td>150</td>\n",
       "    </tr>\n",
       "    <tr>\n",
       "      <th>Joe</th>\n",
       "      <td>NaN</td>\n",
       "      <td>NaN</td>\n",
       "      <td>2/5/2010</td>\n",
       "      <td>NJ</td>\n",
       "      <td>21</td>\n",
       "      <td>175</td>\n",
       "    </tr>\n",
       "    <tr>\n",
       "      <th>Mia</th>\n",
       "      <td>NaN</td>\n",
       "      <td>NaN</td>\n",
       "      <td>10/23/2015</td>\n",
       "      <td>AZ</td>\n",
       "      <td>67</td>\n",
       "      <td>130</td>\n",
       "    </tr>\n",
       "    <tr>\n",
       "      <th>Amy</th>\n",
       "      <td>NaN</td>\n",
       "      <td>NaN</td>\n",
       "      <td>11/6/1983</td>\n",
       "      <td>FL</td>\n",
       "      <td>19</td>\n",
       "      <td>145</td>\n",
       "    </tr>\n",
       "    <tr>\n",
       "      <th>Liz</th>\n",
       "      <td>NaN</td>\n",
       "      <td>NaN</td>\n",
       "      <td>4/19/1994</td>\n",
       "      <td>CA</td>\n",
       "      <td>29</td>\n",
       "      <td>150</td>\n",
       "    </tr>\n",
       "    <tr>\n",
       "      <th>John</th>\n",
       "      <td>NaN</td>\n",
       "      <td>NaN</td>\n",
       "      <td>8/29/2023</td>\n",
       "      <td>OH</td>\n",
       "      <td>34</td>\n",
       "      <td>170</td>\n",
       "    </tr>\n",
       "  </tbody>\n",
       "</table>\n",
       "</div>"
      ],
      "text/plain": [
       "      Unnamed: 0  Unnamed: 1   Birthdate State  Age  Weight\n",
       "Name                                                       \n",
       "Amy          NaN         NaN  10/25/1972    NY   34     150\n",
       "Joe          NaN         NaN    2/5/2010    NJ   21     175\n",
       "Mia          NaN         NaN  10/23/2015    AZ   67     130\n",
       "Amy          NaN         NaN   11/6/1983    FL   19     145\n",
       "Liz          NaN         NaN   4/19/1994    CA   29     150\n",
       "John         NaN         NaN   8/29/2023    OH   34     170"
      ]
     },
     "execution_count": 19,
     "metadata": {},
     "output_type": "execute_result"
    }
   ],
   "source": [
    "pd.read_csv('sample_files/person_info_v2.csv',header=5, index_col=2)"
   ]
  },
  {
   "cell_type": "markdown",
   "id": "898aac9a-1e22-4e8b-8f31-eb60bec698a3",
   "metadata": {},
   "source": [
    "The iloc indexer can be used to exclude the first two unnecessary columns by selecting only the desired columns based on their integer positions."
   ]
  },
  {
   "cell_type": "code",
   "execution_count": 21,
   "id": "788e384c-d227-4405-96fb-261013b10ea4",
   "metadata": {},
   "outputs": [
    {
     "data": {
      "text/html": [
       "<div>\n",
       "<style scoped>\n",
       "    .dataframe tbody tr th:only-of-type {\n",
       "        vertical-align: middle;\n",
       "    }\n",
       "\n",
       "    .dataframe tbody tr th {\n",
       "        vertical-align: top;\n",
       "    }\n",
       "\n",
       "    .dataframe thead th {\n",
       "        text-align: right;\n",
       "    }\n",
       "</style>\n",
       "<table border=\"1\" class=\"dataframe\">\n",
       "  <thead>\n",
       "    <tr style=\"text-align: right;\">\n",
       "      <th></th>\n",
       "      <th>Birthdate</th>\n",
       "      <th>State</th>\n",
       "      <th>Age</th>\n",
       "      <th>Weight</th>\n",
       "    </tr>\n",
       "    <tr>\n",
       "      <th>Name</th>\n",
       "      <th></th>\n",
       "      <th></th>\n",
       "      <th></th>\n",
       "      <th></th>\n",
       "    </tr>\n",
       "  </thead>\n",
       "  <tbody>\n",
       "    <tr>\n",
       "      <th>Amy</th>\n",
       "      <td>10/25/1972</td>\n",
       "      <td>NY</td>\n",
       "      <td>34</td>\n",
       "      <td>150</td>\n",
       "    </tr>\n",
       "    <tr>\n",
       "      <th>Joe</th>\n",
       "      <td>2/5/2010</td>\n",
       "      <td>NJ</td>\n",
       "      <td>21</td>\n",
       "      <td>175</td>\n",
       "    </tr>\n",
       "    <tr>\n",
       "      <th>Mia</th>\n",
       "      <td>10/23/2015</td>\n",
       "      <td>AZ</td>\n",
       "      <td>67</td>\n",
       "      <td>130</td>\n",
       "    </tr>\n",
       "    <tr>\n",
       "      <th>Amy</th>\n",
       "      <td>11/6/1983</td>\n",
       "      <td>FL</td>\n",
       "      <td>19</td>\n",
       "      <td>145</td>\n",
       "    </tr>\n",
       "    <tr>\n",
       "      <th>Liz</th>\n",
       "      <td>4/19/1994</td>\n",
       "      <td>CA</td>\n",
       "      <td>29</td>\n",
       "      <td>150</td>\n",
       "    </tr>\n",
       "    <tr>\n",
       "      <th>John</th>\n",
       "      <td>8/29/2023</td>\n",
       "      <td>OH</td>\n",
       "      <td>34</td>\n",
       "      <td>170</td>\n",
       "    </tr>\n",
       "  </tbody>\n",
       "</table>\n",
       "</div>"
      ],
      "text/plain": [
       "       Birthdate State  Age  Weight\n",
       "Name                               \n",
       "Amy   10/25/1972    NY   34     150\n",
       "Joe     2/5/2010    NJ   21     175\n",
       "Mia   10/23/2015    AZ   67     130\n",
       "Amy    11/6/1983    FL   19     145\n",
       "Liz    4/19/1994    CA   29     150\n",
       "John   8/29/2023    OH   34     170"
      ]
     },
     "execution_count": 21,
     "metadata": {},
     "output_type": "execute_result"
    }
   ],
   "source": [
    "pd.read_csv('sample_files/person_info_v2.csv',header=5, index_col=2).iloc[:,2:]"
   ]
  },
  {
   "cell_type": "markdown",
   "id": "20617c23-9088-459f-b820-a5e79c29fe42",
   "metadata": {},
   "source": [
    "### usecols\n",
    "This parameter is used to specify which columns should be imported from the file."
   ]
  },
  {
   "cell_type": "code",
   "execution_count": 23,
   "id": "df1ecbcd-635f-4765-9c4e-dd502fb82043",
   "metadata": {},
   "outputs": [
    {
     "data": {
      "text/html": [
       "<div>\n",
       "<style scoped>\n",
       "    .dataframe tbody tr th:only-of-type {\n",
       "        vertical-align: middle;\n",
       "    }\n",
       "\n",
       "    .dataframe tbody tr th {\n",
       "        vertical-align: top;\n",
       "    }\n",
       "\n",
       "    .dataframe thead th {\n",
       "        text-align: right;\n",
       "    }\n",
       "</style>\n",
       "<table border=\"1\" class=\"dataframe\">\n",
       "  <thead>\n",
       "    <tr style=\"text-align: right;\">\n",
       "      <th></th>\n",
       "      <th>Birthdate</th>\n",
       "      <th>State</th>\n",
       "      <th>Age</th>\n",
       "      <th>Weight</th>\n",
       "    </tr>\n",
       "    <tr>\n",
       "      <th>Name</th>\n",
       "      <th></th>\n",
       "      <th></th>\n",
       "      <th></th>\n",
       "      <th></th>\n",
       "    </tr>\n",
       "  </thead>\n",
       "  <tbody>\n",
       "    <tr>\n",
       "      <th>Amy</th>\n",
       "      <td>10/25/1972</td>\n",
       "      <td>NY</td>\n",
       "      <td>34</td>\n",
       "      <td>150</td>\n",
       "    </tr>\n",
       "    <tr>\n",
       "      <th>Joe</th>\n",
       "      <td>2/5/2010</td>\n",
       "      <td>NJ</td>\n",
       "      <td>21</td>\n",
       "      <td>175</td>\n",
       "    </tr>\n",
       "    <tr>\n",
       "      <th>Mia</th>\n",
       "      <td>10/23/2015</td>\n",
       "      <td>AZ</td>\n",
       "      <td>67</td>\n",
       "      <td>130</td>\n",
       "    </tr>\n",
       "    <tr>\n",
       "      <th>Amy</th>\n",
       "      <td>11/6/1983</td>\n",
       "      <td>FL</td>\n",
       "      <td>19</td>\n",
       "      <td>145</td>\n",
       "    </tr>\n",
       "    <tr>\n",
       "      <th>Liz</th>\n",
       "      <td>4/19/1994</td>\n",
       "      <td>CA</td>\n",
       "      <td>29</td>\n",
       "      <td>150</td>\n",
       "    </tr>\n",
       "    <tr>\n",
       "      <th>John</th>\n",
       "      <td>8/29/2023</td>\n",
       "      <td>OH</td>\n",
       "      <td>34</td>\n",
       "      <td>170</td>\n",
       "    </tr>\n",
       "  </tbody>\n",
       "</table>\n",
       "</div>"
      ],
      "text/plain": [
       "       Birthdate State  Age  Weight\n",
       "Name                               \n",
       "Amy   10/25/1972    NY   34     150\n",
       "Joe     2/5/2010    NJ   21     175\n",
       "Mia   10/23/2015    AZ   67     130\n",
       "Amy    11/6/1983    FL   19     145\n",
       "Liz    4/19/1994    CA   29     150\n",
       "John   8/29/2023    OH   34     170"
      ]
     },
     "execution_count": 23,
     "metadata": {},
     "output_type": "execute_result"
    }
   ],
   "source": [
    "pd.read_csv('sample_files/person_info_v2.csv',header=5, index_col=0, \n",
    "            usecols=['Name', 'Birthdate', 'State', 'Age', 'Weight'])"
   ]
  },
  {
   "cell_type": "markdown",
   "id": "c745fd04-7407-43af-abd1-abdbbc583e09",
   "metadata": {},
   "source": [
    "## read_excel()\n",
    "It is similar to the read_csv() method but is used to import data from Excel files."
   ]
  },
  {
   "cell_type": "markdown",
   "id": "429c09e2-5305-4670-a6f7-25a4528c5df9",
   "metadata": {},
   "source": [
    "## to_csv()\n",
    "The [to_csv()](https://pandas.pydata.org/docs/reference/api/pandas.DataFrame.to_csv.html) method is used to write a DataFrame to a comma-separated values (CSV) file.\n",
    "\n",
    "The file path is passed as a string to the to_csv() function, including the file name and its extension.\n",
    "\n",
    "In the following code, the DataFrame df is saved as a CSV file named countries.csv inside the sample_files folder."
   ]
  },
  {
   "cell_type": "code",
   "execution_count": 26,
   "id": "15f0bd2e-15ea-4e09-ac65-1960b7010927",
   "metadata": {},
   "outputs": [
    {
     "data": {
      "text/html": [
       "<div>\n",
       "<style scoped>\n",
       "    .dataframe tbody tr th:only-of-type {\n",
       "        vertical-align: middle;\n",
       "    }\n",
       "\n",
       "    .dataframe tbody tr th {\n",
       "        vertical-align: top;\n",
       "    }\n",
       "\n",
       "    .dataframe thead th {\n",
       "        text-align: right;\n",
       "    }\n",
       "</style>\n",
       "<table border=\"1\" class=\"dataframe\">\n",
       "  <thead>\n",
       "    <tr style=\"text-align: right;\">\n",
       "      <th></th>\n",
       "      <th>Continent</th>\n",
       "      <th>Company</th>\n",
       "    </tr>\n",
       "  </thead>\n",
       "  <tbody>\n",
       "    <tr>\n",
       "      <th>France</th>\n",
       "      <td>Europe</td>\n",
       "      <td>Carrefour</td>\n",
       "    </tr>\n",
       "    <tr>\n",
       "      <th>Germany</th>\n",
       "      <td>Europe</td>\n",
       "      <td>Siemens</td>\n",
       "    </tr>\n",
       "    <tr>\n",
       "      <th>North America</th>\n",
       "      <td>USA</td>\n",
       "      <td>Apple</td>\n",
       "    </tr>\n",
       "    <tr>\n",
       "      <th>Japan</th>\n",
       "      <td>Asia</td>\n",
       "      <td>Sony</td>\n",
       "    </tr>\n",
       "  </tbody>\n",
       "</table>\n",
       "</div>"
      ],
      "text/plain": [
       "              Continent    Company\n",
       "France           Europe  Carrefour\n",
       "Germany          Europe    Siemens\n",
       "North America       USA      Apple\n",
       "Japan              Asia       Sony"
      ]
     },
     "execution_count": 26,
     "metadata": {},
     "output_type": "execute_result"
    }
   ],
   "source": [
    "df = pd.DataFrame( index=['France', 'Germany', 'North America', 'Japan'],\n",
    "                 columns=['Continent', 'Company'],\n",
    "                 data = [['Europe', 'Carrefour'], ['Europe', 'Siemens'],\n",
    "                         ['USA', 'Apple'],\n",
    "                         ['Asia', 'Sony']])\n",
    "df"
   ]
  },
  {
   "cell_type": "code",
   "execution_count": 27,
   "id": "5d44b82b-fe15-4cbf-bfd7-69f0fd7706a0",
   "metadata": {},
   "outputs": [],
   "source": [
    "df.to_csv('sample_files/countries.csv')"
   ]
  },
  {
   "cell_type": "markdown",
   "id": "f36b84e4-f94b-40a4-aaf0-5717cee37fef",
   "metadata": {},
   "source": [
    "![A screenshot of an Excel file containing index, 2 columns and 4 rows of data.](pict/csv1.png)"
   ]
  },
  {
   "cell_type": "markdown",
   "id": "9d1c9dc8-1006-4c2d-983e-26665bb9cd06",
   "metadata": {},
   "source": [
    "### index\n",
    "Set the index parameter False to prevent the DataFrame’s index from being written to the output file."
   ]
  },
  {
   "cell_type": "code",
   "execution_count": 30,
   "id": "4bcdbfd7-5230-4549-afc1-5d1e916432d9",
   "metadata": {},
   "outputs": [],
   "source": [
    "df.to_csv('sample_files/countries.csv', index=False)"
   ]
  },
  {
   "cell_type": "markdown",
   "id": "4769d939-8b96-466c-96b9-c550365bbdd0",
   "metadata": {},
   "source": [
    "![A screenshot of an Excel file containing 2 columns and 4 rows of data.](pict/csv2.png)"
   ]
  },
  {
   "cell_type": "markdown",
   "id": "adf572ec-15b1-4434-8058-2bc70367a99b",
   "metadata": {},
   "source": [
    "### columns\n",
    "Specifies which columns of the DataFrame should be written to the output file."
   ]
  },
  {
   "cell_type": "code",
   "execution_count": 33,
   "id": "70c2c6a8-a63e-4827-8029-3667f709ac44",
   "metadata": {},
   "outputs": [],
   "source": [
    "df.to_csv('sample_files/countries.csv', columns=['Company'])"
   ]
  },
  {
   "cell_type": "markdown",
   "id": "97d344e5-9b12-4224-ab8b-25a49862ce51",
   "metadata": {},
   "source": [
    "![A screenshot of an Excel file containing 2 columns and 4 rows of data.](pict/csv3.png)"
   ]
  },
  {
   "cell_type": "markdown",
   "id": "ebeb3989-4551-407c-beb7-d5e95f5aae97",
   "metadata": {},
   "source": [
    "### header\n",
    "Specifies whether to write column labels to the output file. It can also accept a list of custom labels."
   ]
  },
  {
   "cell_type": "code",
   "execution_count": 36,
   "id": "fab74f9a-a6c8-4ad4-97f0-55efe3ce0da8",
   "metadata": {},
   "outputs": [],
   "source": [
    "df.to_csv('sample_files/countries.csv', header=False)"
   ]
  },
  {
   "cell_type": "markdown",
   "id": "8230cd4b-65d8-4ade-8625-48cf52be388f",
   "metadata": {},
   "source": [
    "![A screenshot of an Excel file containing 2 columns and 4 rows of data.](pict/csv4.png)"
   ]
  },
  {
   "cell_type": "code",
   "execution_count": 62,
   "id": "955a5e31-fe9c-46aa-8651-018fda8936b2",
   "metadata": {},
   "outputs": [],
   "source": [
    "df.to_csv('sample_files/countries.csv', header=['CONTINENT', 'COMPANY'])"
   ]
  },
  {
   "cell_type": "markdown",
   "id": "e0d8d9ac-f898-45df-90fe-2da360abc3b7",
   "metadata": {},
   "source": [
    "![A screenshot of an Excel file containing 2 columns and 4 rows of data.](pict/csv5.png)"
   ]
  },
  {
   "cell_type": "markdown",
   "id": "a4ba6570-ead6-444a-aac2-9b8e06fa7212",
   "metadata": {},
   "source": [
    "## to_excel()\n",
    "It is similar to the to_csv() method but is used to save data as an Excel files."
   ]
  },
  {
   "cell_type": "code",
   "execution_count": null,
   "id": "4a547e43-b17d-4538-8b5c-975d240a3be6",
   "metadata": {},
   "outputs": [],
   "source": []
  }
 ],
 "metadata": {
  "kernelspec": {
   "display_name": "Python 3 (ipykernel)",
   "language": "python",
   "name": "python3"
  },
  "language_info": {
   "codemirror_mode": {
    "name": "ipython",
    "version": 3
   },
   "file_extension": ".py",
   "mimetype": "text/x-python",
   "name": "python",
   "nbconvert_exporter": "python",
   "pygments_lexer": "ipython3",
   "version": "3.11.8"
  }
 },
 "nbformat": 4,
 "nbformat_minor": 5
}
